{
 "cells": [
  {
   "cell_type": "code",
   "execution_count": 1,
   "id": "a156b6b3-6be5-47aa-bed2-8e9b36256952",
   "metadata": {},
   "outputs": [],
   "source": [
    "from aiomql import MetaTrader, Symbol, Account, Config"
   ]
  },
  {
   "cell_type": "code",
   "execution_count": 2,
   "id": "248f1c1b-4e7d-45a9-9104-e4e3980acc67",
   "metadata": {},
   "outputs": [
    {
     "name": "stdout",
     "output_type": "stream",
     "text": [
      "() {'login': 40311691, 'password': 'Aiomql-Demo1', 'server': 'Deriv-Demo', 'timeout': 60000, 'portable': False}\n",
      "{'login': 40311691, 'password': 'Aiomql-Demo1', 'server': 'Deriv-Demo'}\n",
      "40311691 Aiomql-Demo1 Deriv-Demo 60000\n"
     ]
    }
   ],
   "source": [
    "mt = MetaTrader()\n",
    "init = await mt.initialize()\n",
    "login = await mt.login()"
   ]
  },
  {
   "cell_type": "code",
   "execution_count": 3,
   "id": "51dcf570-136f-47ad-a4d9-3aa9e201d5bf",
   "metadata": {},
   "outputs": [
    {
     "data": {
      "text/plain": [
       "True"
      ]
     },
     "execution_count": 3,
     "metadata": {},
     "output_type": "execute_result"
    }
   ],
   "source": [
    "sym = Symbol(name='EURGBP')\n",
    "await sym.initialize()"
   ]
  },
  {
   "cell_type": "code",
   "execution_count": 5,
   "id": "691d9481-1c08-47a9-b0f6-920cbd04e12f",
   "metadata": {},
   "outputs": [
    {
     "data": {
      "text/plain": [
       "1604.05"
      ]
     },
     "execution_count": 5,
     "metadata": {},
     "output_type": "execute_result"
    }
   ],
   "source": [
    "await sym.convert_currency(amount=10, from_currency='EUR', to_currency=\"JPY\")"
   ]
  },
  {
   "cell_type": "code",
   "execution_count": 6,
   "id": "2088e715-b8b7-43e4-824e-5cc7b25584b8",
   "metadata": {},
   "outputs": [
    {
     "data": {
      "text/plain": [
       "True"
      ]
     },
     "execution_count": 6,
     "metadata": {},
     "output_type": "execute_result"
    }
   ],
   "source": [
    "jp = Symbol(name='EURJPY')\n",
    "await jp.initialize()"
   ]
  },
  {
   "cell_type": "code",
   "execution_count": 8,
   "id": "bba197ee-dbc4-4c6c-9b83-335e40c3fd50",
   "metadata": {},
   "outputs": [],
   "source": [
    "amount = await jp.amount_in_quote_currency(amount=10)"
   ]
  },
  {
   "cell_type": "code",
   "execution_count": 9,
   "id": "da24e4de-204e-4871-828d-e1e802c2dbc5",
   "metadata": {},
   "outputs": [
    {
     "data": {
      "text/plain": [
       "1530.87"
      ]
     },
     "execution_count": 9,
     "metadata": {},
     "output_type": "execute_result"
    }
   ],
   "source": [
    "amount"
   ]
  },
  {
   "cell_type": "code",
   "execution_count": null,
   "id": "8ff7be35-e3b0-43da-99d4-1580ff946466",
   "metadata": {},
   "outputs": [],
   "source": []
  }
 ],
 "metadata": {
  "kernelspec": {
   "display_name": "Python 3 (ipykernel)",
   "language": "python",
   "name": "python3"
  },
  "language_info": {
   "codemirror_mode": {
    "name": "ipython",
    "version": 3
   },
   "file_extension": ".py",
   "mimetype": "text/x-python",
   "name": "python",
   "nbconvert_exporter": "python",
   "pygments_lexer": "ipython3",
   "version": "3.12.3"
  }
 },
 "nbformat": 4,
 "nbformat_minor": 5
}
