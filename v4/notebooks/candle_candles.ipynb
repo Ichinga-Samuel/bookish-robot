{
 "cells": [
  {
   "cell_type": "markdown",
   "id": "43a8c680-7fd8-4d36-9805-2eabccc8ae02",
   "metadata": {},
   "source": [
    "# Exploratory Notebook Examining the Candle and Candles Classes of aiomql"
   ]
  },
  {
   "cell_type": "code",
   "execution_count": 1,
   "id": "8c39e2aa-bf99-4a62-b867-c4cc453dbfa3",
   "metadata": {},
   "outputs": [],
   "source": [
    "from pandas import Series, DataFrame\n",
    "from aiomql import MetaTrader, TimeFrame, Candle, Candles, Config, Account"
   ]
  },
  {
   "cell_type": "code",
   "execution_count": 2,
   "id": "fa2b7d0e-7c9e-4e4a-9ebd-4ab4301ae3b1",
   "metadata": {},
   "outputs": [
    {
     "name": "stdout",
     "output_type": "stream",
     "text": [
      "() {'login': 40311691, 'password': 'Aiomql-Demo1', 'server': 'Deriv-Demo', 'timeout': 60000, 'portable': False}\n",
      "{'login': 40311691, 'password': 'Aiomql-Demo1', 'server': 'Deriv-Demo'}\n",
      "40311691 Aiomql-Demo1 Deriv-Demo 60000\n",
      "Terminal sucessfully initialized and login successful\n"
     ]
    }
   ],
   "source": [
    "# a config file is in the notebooks folder\n",
    "# if you don't wish to bother with a config file, simply call the login method below with your account details.\n",
    "mt5 = MetaTrader()\n",
    "init = await mt5.initialize()\n",
    "login = await mt5.login()\n",
    "if init and login:\n",
    "    print(\"Terminal successfully initialized and login successful\")"
   ]
  },
  {
   "cell_type": "markdown",
   "id": "aa4be44d-386b-444e-a646-4ed411ea1543",
   "metadata": {},
   "source": [
    "## Candles Class"
   ]
  },
  {
   "cell_type": "code",
   "execution_count": 3,
   "id": "b769efe2-7403-40fc-ae3a-eca371789c51",
   "metadata": {},
   "outputs": [],
   "source": [
    "# get price bars from the terminal for the last 200 hours\n",
    "# bars is a numpy.ndarray object\n",
    "bars = await mt5.copy_rates_from_pos(\"EURUSD\", TimeFrame.H1, 0, 200)"
   ]
  },
  {
   "cell_type": "code",
   "execution_count": 4,
   "id": "8b754ed1-73ec-4943-81b6-ef70b3bc4f6b",
   "metadata": {},
   "outputs": [],
   "source": [
    "# it is an iterable and there for can passed in to the Candles class\n",
    "candles = Candles(data=bars)"
   ]
  },
  {
   "cell_type": "code",
   "execution_count": 5,
   "id": "bac8fd34-d91d-48d8-8b1d-273809601d6e",
   "metadata": {},
   "outputs": [
    {
     "name": "stdout",
     "output_type": "stream",
     "text": [
      "True\n",
      "         time     open     high      low    close  tick_volume  spread  \\\n",
      "0  1731531600  1.05621  1.05668  1.05618  1.05632         1849       0   \n",
      "1  1731535200  1.05578  1.05628  1.05570  1.05621         1188       8   \n",
      "2  1731538800  1.05619  1.05658  1.05603  1.05657         1456       1   \n",
      "3  1731542400  1.05657  1.05687  1.05626  1.05652         2382       1   \n",
      "4  1731546000  1.05652  1.05652  1.05510  1.05560         3798       1   \n",
      "\n",
      "   real_volume  \n",
      "0            0  \n",
      "1            0  \n",
      "2            0  \n",
      "3            0  \n",
      "4            0  \n"
     ]
    }
   ],
   "source": [
    "# the candles class creates a dataframe object from the price bars and saves it in an internal _data attribute which is\n",
    "# accessible via the data property\n",
    "print(isinstance(candles._data, DataFrame))\n",
    "print(candles.data.head(5))\n"
   ]
  },
  {
   "cell_type": "code",
   "execution_count": 6,
   "id": "1a856eb9-fee6-4e48-be2b-9c5bb3ddf581",
   "metadata": {},
   "outputs": [
    {
     "name": "stdout",
     "output_type": "stream",
     "text": [
      "0      1.05621\n",
      "1      1.05578\n",
      "2      1.05619\n",
      "3      1.05657\n",
      "4      1.05652\n",
      "        ...   \n",
      "195    1.04439\n",
      "196    1.04349\n",
      "197    1.04540\n",
      "198    1.04608\n",
      "199    1.04779\n",
      "Name: open, Length: 200, dtype: float64\n"
     ]
    }
   ],
   "source": [
    "# each of the column of the data attribute is in turn an attribute of the instance and returns a Series object\n",
    "print(candles.open)"
   ]
  },
  {
   "cell_type": "code",
   "execution_count": 7,
   "id": "d590d2d9-769a-4ac5-a86a-1ce7a37fe0a6",
   "metadata": {},
   "outputs": [
    {
     "name": "stdout",
     "output_type": "stream",
     "text": [
      "Candle(Index=0, time=1731531600.0, open=1.05621, high=1.05668, low=1.05618, close=1.05632)\n",
      "Candle(Index=199, time=1732593600.0, open=1.04779, high=1.04874, low=1.04777, close=1.04854)\n"
     ]
    }
   ],
   "source": [
    "# indexing a candles object will return a candle object\n",
    "first_candle = candles[0]\n",
    "last_candle = candles[-1]\n",
    "print(first_candle) #  the index of the candle object will be 0 as it is the first in this sequence of candles\n",
    "print(last_candle) #  the index here will be 199 as the 200th item"
   ]
  },
  {
   "cell_type": "code",
   "execution_count": 8,
   "id": "520fc26c-a451-4b83-8b4f-af92e755a5fd",
   "metadata": {},
   "outputs": [
    {
     "name": "stdout",
     "output_type": "stream",
     "text": [
      "100\n",
      "True\n",
      "0      0\n",
      "1      1\n",
      "2      2\n",
      "3      3\n",
      "4      4\n",
      "      ..\n",
      "95    95\n",
      "96    96\n",
      "97    97\n",
      "98    98\n",
      "99    99\n",
      "Length: 100, dtype: int64\n",
      "RangeIndex(start=0, stop=100, step=1)\n"
     ]
    }
   ],
   "source": [
    "# slicing a candles object returns another candles object\n",
    "first_100 = candles[:100]\n",
    "print(len(first_100))\n",
    "print(isinstance(first_100, Candles))\n",
    "#  the index is reset\n",
    "print(first_100.Index) \n",
    "print(first_100.data.index)"
   ]
  },
  {
   "cell_type": "code",
   "execution_count": 9,
   "id": "7305ec93-099f-434b-bab0-26ab481ed6a4",
   "metadata": {},
   "outputs": [
    {
     "data": {
      "text/plain": [
       "0      1.05632\n",
       "1      1.05621\n",
       "2      1.05657\n",
       "3      1.05652\n",
       "4      1.05560\n",
       "        ...   \n",
       "195    1.04349\n",
       "196    1.04540\n",
       "197    1.04608\n",
       "198    1.04779\n",
       "199    1.04854\n",
       "Name: close, Length: 200, dtype: float64"
      ]
     },
     "execution_count": 9,
     "metadata": {},
     "output_type": "execute_result"
    }
   ],
   "source": [
    "# attributes that are columns in the data property can be accessed using [] syntax\n",
    "candles['close']"
   ]
  },
  {
   "cell_type": "code",
   "execution_count": 10,
   "id": "725d5020-985e-4018-ae92-4d699d1f155e",
   "metadata": {},
   "outputs": [
    {
     "data": {
      "text/plain": [
       "0      1.056265\n",
       "1      1.055995\n",
       "2      1.056380\n",
       "3      1.056545\n",
       "4      1.056060\n",
       "         ...   \n",
       "195    1.043940\n",
       "196    1.044445\n",
       "197    1.045740\n",
       "198    1.046935\n",
       "199    1.048165\n",
       "Name: mid, Length: 200, dtype: float64"
      ]
     },
     "execution_count": 10,
     "metadata": {},
     "output_type": "execute_result"
    }
   ],
   "source": [
    "# new columns and attributes can also be assigned using the [] syntax\n",
    "candles['mid'] = (candles['close'] + candles['open']) / 2\n",
    "# access mid as an attribute\n",
    "candles.mid"
   ]
  },
  {
   "cell_type": "code",
   "execution_count": 11,
   "id": "f2ffdff2-8dd1-4dcc-82cc-e5c5c45880a8",
   "metadata": {},
   "outputs": [
    {
     "name": "stdout",
     "output_type": "stream",
     "text": [
      "Index(['time', 'open', 'high', 'low', 'close', 'tick_volume', 'spread',\n",
      "       'real_volume', 'mid'],\n",
      "      dtype='object')\n",
      "Index(['time', 'open', 'high', 'low', 'close', 'tick_volume', 'spread',\n",
      "       'real_volume', 'mid'],\n",
      "      dtype='object')\n"
     ]
    }
   ],
   "source": [
    "# see columns of the data property with the colunmns property \n",
    "print(candles.columns)\n",
    "print(candles.data.columns)"
   ]
  },
  {
   "cell_type": "code",
   "execution_count": 12,
   "id": "86a46035-f03d-4db1-87d1-f33f2c15a263",
   "metadata": {},
   "outputs": [
    {
     "name": "stdout",
     "output_type": "stream",
     "text": [
      "True Candle(Index=0, time=1731531600, open=1.05621, high=1.05668, low=1.05618, close=1.05632)\n",
      "True 0\n",
      "True Candle(Index=1, time=1731535200, open=1.05578, high=1.05628, low=1.0557, close=1.05621)\n",
      "True 1\n"
     ]
    }
   ],
   "source": [
    "# iterating over the candles returns candle objects\n",
    "count = 0\n",
    "for candle in candles:\n",
    "    print(isinstance(candle, Candle), candle)\n",
    "    print(candle.Index == count, count)\n",
    "    count += 1\n",
    "    if count == 2:\n",
    "        break\n"
   ]
  },
  {
   "cell_type": "code",
   "execution_count": 13,
   "id": "e2630b46-ee78-447a-bd8f-f3880a41522f",
   "metadata": {},
   "outputs": [
    {
     "name": "stdout",
     "output_type": "stream",
     "text": [
      "TIMEFRAME_H1\n"
     ]
    }
   ],
   "source": [
    "# get the timeframe of the candles \n",
    "print(candles.timeframe)"
   ]
  },
  {
   "cell_type": "code",
   "execution_count": 14,
   "id": "30976251-8c0a-4eb1-89bf-1b39f84f75f9",
   "metadata": {},
   "outputs": [
    {
     "data": {
      "text/plain": [
       "200"
      ]
     },
     "execution_count": 14,
     "metadata": {},
     "output_type": "execute_result"
    }
   ],
   "source": [
    "# the len of the candles \n",
    "len(candles)"
   ]
  },
  {
   "cell_type": "code",
   "execution_count": 15,
   "id": "3feb9109-91d2-4cef-b80c-1fd2deded736",
   "metadata": {},
   "outputs": [
    {
     "data": {
      "text/plain": [
       "True"
      ]
     },
     "execution_count": 15,
     "metadata": {},
     "output_type": "execute_result"
    }
   ],
   "source": [
    "# check contains property\n",
    "candle_100 = candles[99]\n",
    "candle_100 in candles"
   ]
  },
  {
   "cell_type": "code",
   "execution_count": 16,
   "id": "c978a5fa-cbe8-41a7-9005-46d962757cc8",
   "metadata": {},
   "outputs": [
    {
     "data": {
      "text/plain": [
       "0           NaN\n",
       "1           NaN\n",
       "2           NaN\n",
       "3           NaN\n",
       "4           NaN\n",
       "         ...   \n",
       "195    1.047810\n",
       "196    1.047581\n",
       "197    1.047438\n",
       "198    1.047471\n",
       "199    1.047573\n",
       "Name: EMA_20, Length: 200, dtype: float64"
      ]
     },
     "execution_count": 16,
     "metadata": {},
     "output_type": "execute_result"
    }
   ],
   "source": [
    "# technical analysis\n",
    "# compute ema\n",
    "# if append is true, the new result will be appended to the data property inplace\n",
    "candles.ta.ema(length=20, append=True)"
   ]
  },
  {
   "cell_type": "code",
   "execution_count": 17,
   "id": "4620a7fb-3660-444c-b6fe-ca55f14a39f4",
   "metadata": {},
   "outputs": [
    {
     "data": {
      "text/plain": [
       "0           NaN\n",
       "1           NaN\n",
       "2           NaN\n",
       "3           NaN\n",
       "4           NaN\n",
       "         ...   \n",
       "195    1.047810\n",
       "196    1.047581\n",
       "197    1.047438\n",
       "198    1.047471\n",
       "199    1.047573\n",
       "Name: EMA_20, Length: 200, dtype: float64"
      ]
     },
     "execution_count": 17,
     "metadata": {},
     "output_type": "execute_result"
    }
   ],
   "source": [
    "candles.EMA_20"
   ]
  },
  {
   "cell_type": "code",
   "execution_count": 18,
   "id": "149cb517-7627-4f7a-93fd-0c0cf226b791",
   "metadata": {},
   "outputs": [
    {
     "data": {
      "text/plain": [
       "0           NaN\n",
       "1           NaN\n",
       "2           NaN\n",
       "3           NaN\n",
       "4           NaN\n",
       "         ...   \n",
       "195    1.046249\n",
       "196    1.046219\n",
       "197    1.046189\n",
       "198    1.046202\n",
       "199    1.046227\n",
       "Name: SMA_50, Length: 200, dtype: float64"
      ]
     },
     "execution_count": 18,
     "metadata": {},
     "output_type": "execute_result"
    }
   ],
   "source": [
    "# append is false, result will not be appended\n",
    "candles.ta.sma(length=50)"
   ]
  },
  {
   "cell_type": "code",
   "execution_count": 19,
   "id": "03c3bd6b-507e-41a5-8735-fa38d1a1bd92",
   "metadata": {},
   "outputs": [],
   "source": [
    "# this will fail\n",
    "# candles.SMA_50"
   ]
  },
  {
   "cell_type": "code",
   "execution_count": 20,
   "id": "915b4778-a609-4d8e-a06d-4e97e37bbb97",
   "metadata": {},
   "outputs": [
    {
     "name": "stdout",
     "output_type": "stream",
     "text": [
      "0      0\n",
      "1      0\n",
      "2      0\n",
      "3      0\n",
      "4      0\n",
      "      ..\n",
      "195    0\n",
      "196    0\n",
      "197    0\n",
      "198    1\n",
      "199    1\n",
      "Name: close_A_EMA_20, Length: 200, dtype: int32\n"
     ]
    }
   ],
   "source": [
    "# some technical analysis operations cannot append to the dataframe, and needs the series to be passed in as arguments\n",
    "# use the ta_lib properties for them\n",
    "cae = candles.ta_lib.above(candles.close, candles.EMA_20)\n",
    "print(cae)"
   ]
  },
  {
   "cell_type": "code",
   "execution_count": 21,
   "id": "f24a737d-65f5-4cd9-b170-92c3acc31ae0",
   "metadata": {},
   "outputs": [
    {
     "data": {
      "text/plain": [
       "Index(['time', 'open', 'high', 'low', 'close', 'tick_volume', 'spread',\n",
       "       'real_volume', 'mid', 'EMA_20', 'closeAema'],\n",
       "      dtype='object')"
      ]
     },
     "execution_count": 21,
     "metadata": {},
     "output_type": "execute_result"
    }
   ],
   "source": [
    "# assign the result to the candles instance manually\n",
    "candles['closeAema'] = cae\n",
    "candles.columns"
   ]
  },
  {
   "cell_type": "code",
   "execution_count": 22,
   "id": "519754c4-4739-43f7-87aa-ce80296d7e96",
   "metadata": {},
   "outputs": [
    {
     "data": {
      "text/plain": [
       "0           NaN\n",
       "1           NaN\n",
       "2           NaN\n",
       "3           NaN\n",
       "4           NaN\n",
       "         ...   \n",
       "195    1.047810\n",
       "196    1.047581\n",
       "197    1.047438\n",
       "198    1.047471\n",
       "199    1.047573\n",
       "Name: ema, Length: 200, dtype: float64"
      ]
     },
     "execution_count": 22,
     "metadata": {},
     "output_type": "execute_result"
    }
   ],
   "source": [
    "# rename a column to a prefered name, this affects the attribute name also\n",
    "candles.rename(EMA_20='ema')\n",
    "candles.ema"
   ]
  },
  {
   "cell_type": "code",
   "execution_count": 23,
   "id": "200f27a3-dbfb-46ba-a5e9-723b28d6d562",
   "metadata": {},
   "outputs": [
    {
     "name": "stdout",
     "output_type": "stream",
     "text": [
      "True\n",
      "Index(['time', 'open', 'high', 'low', 'close', 'tick_volume', 'spread',\n",
      "       'real_volume', 'mid', 'ema', 'closeAema'],\n",
      "      dtype='object') candles columns\n",
      "Index(['time', 'open', 'high', 'low', 'close', 'tick_volume', 'spread',\n",
      "       'real_volume', 'avg_price', 'ema', 'closeAema'],\n",
      "      dtype='object') n_candles columns\n"
     ]
    }
   ],
   "source": [
    "# if inplace is false a new candles object is returned an the old one is untouched\n",
    "n_candles = candles.rename(mid='avg_price', inplace=False)\n",
    "print(isinstance(n_candles, Candles))\n",
    "print(candles.columns, 'candles columns')\n",
    "print(n_candles.columns, 'n_candles columns')"
   ]
  },
  {
   "cell_type": "code",
   "execution_count": 24,
   "id": "b82f96f6-ece3-4eea-928c-5bc0b0d7db94",
   "metadata": {},
   "outputs": [],
   "source": [
    "## Candle Class"
   ]
  },
  {
   "cell_type": "code",
   "execution_count": 25,
   "id": "17af7636-ae58-418e-9733-2e5bf02ae064",
   "metadata": {},
   "outputs": [],
   "source": [
    "# create a candle from a single price bar\n",
    "bar = bars[0]\n",
    "bar = {key: value for key, value in zip(('time', 'open', 'high', 'low', 'close', 'tick_volume', 'spread', 'real_volume'), bar)}\n",
    "candle = Candle(**bar)"
   ]
  },
  {
   "cell_type": "code",
   "execution_count": 26,
   "id": "3a9586fa-e5bc-4bb1-acf9-3d350cd8410c",
   "metadata": {},
   "outputs": [
    {
     "name": "stdout",
     "output_type": "stream",
     "text": [
      "Candle(Index=0, time=1731531600, open=1.05621, high=1.05668, low=1.05618, close=1.05632)\n"
     ]
    }
   ],
   "source": [
    "print(candle)"
   ]
  },
  {
   "cell_type": "code",
   "execution_count": 27,
   "id": "5124c196-2a8a-436d-b044-805c6eb601d5",
   "metadata": {},
   "outputs": [
    {
     "name": "stdout",
     "output_type": "stream",
     "text": [
      "('time', 1731531600)\n",
      "('Index', 0)\n",
      "('real_volume', 0)\n",
      "('spread', 0)\n",
      "('tick_volume', 1849)\n",
      "('open', 1.05621)\n",
      "('high', 1.05668)\n",
      "('low', 1.05618)\n",
      "('close', 1.05632)\n"
     ]
    }
   ],
   "source": [
    "# a candle can be iterated ove\n",
    "for prop in candle:\n",
    "    print(prop)"
   ]
  },
  {
   "cell_type": "code",
   "execution_count": 28,
   "id": "d060f1fb-3763-4389-8c8e-0d8041628b7a",
   "metadata": {},
   "outputs": [
    {
     "data": {
      "text/plain": [
       "{'time': 1731531600,\n",
       " 'Index': 0,\n",
       " 'real_volume': 0,\n",
       " 'spread': 0,\n",
       " 'tick_volume': 1849,\n",
       " 'open': 1.05621,\n",
       " 'high': 1.05668,\n",
       " 'low': 1.05618,\n",
       " 'close': 1.05632}"
      ]
     },
     "execution_count": 28,
     "metadata": {},
     "output_type": "execute_result"
    }
   ],
   "source": [
    "# turn a candle into a dict\n",
    "candle.dict()"
   ]
  },
  {
   "cell_type": "code",
   "execution_count": 29,
   "id": "cf63ca4a-e77d-4965-a872-301de0f32e38",
   "metadata": {},
   "outputs": [
    {
     "data": {
      "text/plain": [
       "{'open': 1.05621, 'high': 1.05668, 'low': 1.05618, 'close': 1.05632}"
      ]
     },
     "execution_count": 29,
     "metadata": {},
     "output_type": "execute_result"
    }
   ],
   "source": [
    "# get only 'ohcl' properties\n",
    "candle.dict(include={'open', 'high', 'close', 'low'})"
   ]
  },
  {
   "cell_type": "code",
   "execution_count": 30,
   "id": "5c8d2163-dfaa-4a65-8843-5529b15eff7c",
   "metadata": {},
   "outputs": [
    {
     "name": "stdout",
     "output_type": "stream",
     "text": [
      "dict_values([1731531600, 0, 0, 0, 1849, 1.05621, 1.05668, 1.05618, 1.05632])\n",
      "dict_keys(['time', 'Index', 'real_volume', 'spread', 'tick_volume', 'open', 'high', 'low', 'close'])\n"
     ]
    }
   ],
   "source": [
    "# values and keys method\n",
    "values = candle.values()\n",
    "print(values)\n",
    "keys = candle.keys()\n",
    "print(keys)"
   ]
  },
  {
   "cell_type": "code",
   "execution_count": 31,
   "id": "94e43417-16e8-46b9-9269-ce026439aa78",
   "metadata": {},
   "outputs": [
    {
     "data": {
      "text/plain": [
       "1.05643"
      ]
     },
     "execution_count": 31,
     "metadata": {},
     "output_type": "execute_result"
    }
   ],
   "source": [
    "# __setitem__ and __getitem__ supported\n",
    "candle['mid'] = (candle['high'] + candle.low) / 2\n",
    "candle.mid"
   ]
  },
  {
   "cell_type": "code",
   "execution_count": 32,
   "id": "be65de33-ea7e-4cd8-b8a2-3f754426adae",
   "metadata": {},
   "outputs": [
    {
     "data": {
      "text/plain": [
       "True"
      ]
     },
     "execution_count": 32,
     "metadata": {},
     "output_type": "execute_result"
    }
   ],
   "source": [
    "# candles are compared by time\n",
    "bar = {key: value for key, value in zip(('time', 'open', 'high', 'low', 'close', 'tick_volume', 'spread', 'real_volume'), bars[34])}\n",
    "candle_2 = Candle(**bar)\n",
    "candle_2 > candle"
   ]
  },
  {
   "cell_type": "code",
   "execution_count": 33,
   "id": "ed573359-e8de-42ac-b36e-2aba8605bf56",
   "metadata": {},
   "outputs": [
    {
     "name": "stdout",
     "output_type": "stream",
     "text": [
      "True\n",
      "False\n"
     ]
    }
   ],
   "source": [
    "# check bullish an bearish\n",
    "print(candle.is_bullish())\n",
    "print(candle_2.is_bearish())"
   ]
  },
  {
   "cell_type": "code",
   "execution_count": 34,
   "id": "753a2942-414b-4dac-8082-ce7c4b65abd5",
   "metadata": {},
   "outputs": [
    {
     "data": {
      "text/plain": [
       "{'ema': 1.3, 'sma': 4.5}"
      ]
     },
     "execution_count": 34,
     "metadata": {},
     "output_type": "execute_result"
    }
   ],
   "source": [
    "# set multiple attributes with set_attribute\n",
    "candle.set_attributes(ema=1.3, sma=4.5)\n",
    "candle.dict(include={'sma', 'ema'})"
   ]
  },
  {
   "cell_type": "code",
   "execution_count": null,
   "id": "5a1defa3-8a25-4bd5-ad26-d959d4c37009",
   "metadata": {},
   "outputs": [],
   "source": []
  }
 ],
 "metadata": {
  "kernelspec": {
   "display_name": "Python 3 (ipykernel)",
   "language": "python",
   "name": "python3"
  },
  "language_info": {
   "codemirror_mode": {
    "name": "ipython",
    "version": 3
   },
   "file_extension": ".py",
   "mimetype": "text/x-python",
   "name": "python",
   "nbconvert_exporter": "python",
   "pygments_lexer": "ipython3",
   "version": "3.12.3"
  }
 },
 "nbformat": 4,
 "nbformat_minor": 5
}
